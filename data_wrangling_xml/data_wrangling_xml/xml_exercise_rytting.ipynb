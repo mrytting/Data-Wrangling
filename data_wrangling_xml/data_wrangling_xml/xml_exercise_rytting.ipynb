{
 "cells": [
  {
   "cell_type": "markdown",
   "metadata": {},
   "source": [
    "# XML example and exercise\n",
    "****\n",
    "+ study examples of accessing nodes in XML tree structure  \n",
    "+ work on exercise to be completed and submitted\n",
    "****\n",
    "+ reference: https://docs.python.org/2.7/library/xml.etree.elementtree.html\n",
    "+ data source: http://www.dbis.informatik.uni-goettingen.de/Mondial\n",
    "****"
   ]
  },
  {
   "cell_type": "code",
   "execution_count": 6,
   "metadata": {
    "collapsed": true
   },
   "outputs": [],
   "source": [
    "from xml.etree import ElementTree as ET"
   ]
  },
  {
   "cell_type": "markdown",
   "metadata": {},
   "source": [
    "## XML example\n",
    "\n",
    "+ for details about tree traversal and iterators, see https://docs.python.org/2.7/library/xml.etree.elementtree.html"
   ]
  },
  {
   "cell_type": "code",
   "execution_count": 76,
   "metadata": {
    "collapsed": true
   },
   "outputs": [],
   "source": [
    "document_tree = ET.parse( './data/mondial_database_less.xml' )"
   ]
  },
  {
   "cell_type": "code",
   "execution_count": 8,
   "metadata": {
    "collapsed": true
   },
   "outputs": [],
   "source": [
    "import pandas as pd"
   ]
  },
  {
   "cell_type": "code",
   "execution_count": 10,
   "metadata": {
    "collapsed": false
   },
   "outputs": [
    {
     "name": "stdout",
     "output_type": "stream",
     "text": [
      "Albania\n",
      "Greece\n",
      "Macedonia\n",
      "Serbia\n",
      "Montenegro\n",
      "Kosovo\n",
      "Andorra\n"
     ]
    }
   ],
   "source": [
    "# print names of all countries\n",
    "for child in document_tree.getroot():\n",
    "    print (child.find('name').text)"
   ]
  },
  {
   "cell_type": "code",
   "execution_count": 11,
   "metadata": {
    "collapsed": false
   },
   "outputs": [
    {
     "name": "stdout",
     "output_type": "stream",
     "text": [
      "* Albania:\n",
      "Tirana, Shkodër, Durrës, Vlorë, Elbasan, Korçë\n",
      "* Greece:\n",
      "Komotini, Kavala, Athina, Peiraias, Peristeri, Acharnes, Patra, Kozani, Kerkyra, Ioannina, Thessaloniki, Iraklio, Chania, Ermoupoli, Rhodes, Tripoli, Lamia, Chalkida, Larissa, Volos, Mytilini, Karyes\n",
      "* Macedonia:\n",
      "Skopje, Kumanovo\n",
      "* Serbia:\n",
      "Beograd, Novi Sad, Niš\n",
      "* Montenegro:\n",
      "Podgorica\n",
      "* Kosovo:\n",
      "Prishtine\n",
      "* Andorra:\n",
      "Andorra la Vella\n"
     ]
    }
   ],
   "source": [
    "# print names of all countries and their cities\n",
    "for element in document_tree.iterfind('country'):\n",
    "    print ('* ' + element.find('name').text + ':'),\n",
    "    capitals_string = ''\n",
    "    for subelement in element.getiterator('city'):\n",
    "        capitals_string += subelement.find('name').text + ', '\n",
    "    print (capitals_string[:-2])"
   ]
  },
  {
   "cell_type": "code",
   "execution_count": 77,
   "metadata": {
    "collapsed": true
   },
   "outputs": [],
   "source": [
    "document_root = document_tree.getroot()"
   ]
  },
  {
   "cell_type": "code",
   "execution_count": 21,
   "metadata": {
    "collapsed": false,
    "scrolled": true
   },
   "outputs": [
    {
     "name": "stdout",
     "output_type": "stream",
     "text": [
      "country\n",
      "country\n",
      "country\n",
      "country\n",
      "country\n",
      "country\n",
      "country\n"
     ]
    }
   ],
   "source": [
    "for child in document_root:\n",
    "    print (child.tag)"
   ]
  },
  {
   "cell_type": "code",
   "execution_count": 43,
   "metadata": {
    "collapsed": false,
    "scrolled": true
   },
   "outputs": [
    {
     "name": "stdout",
     "output_type": "stream",
     "text": [
      "* Albania:\n",
      "13.19\n",
      "* Greece:\n",
      "4.78\n",
      "* Macedonia:\n",
      "7.9\n",
      "* Serbia:\n",
      "6.16\n",
      "* Montenegro:\n",
      "\n",
      "* Kosovo:\n",
      "\n",
      "* Andorra:\n",
      "3.69\n"
     ]
    }
   ],
   "source": [
    "for element in document_tree.iterfind('country'):\n",
    "    print ('* ' + element.find('name').text + ':'),\n",
    "    infant_mortal = ''\n",
    "    for subelement in element.getiterator('infant_mortality'):\n",
    "        infant_mortal += subelement.text + ', '\n",
    "    print (infant_mortal[:-2]) #this is just to get rid of the comma at the end, so if I'm not doing a list, \n",
    "                                #just git rid of the comma in the previous line"
   ]
  },
  {
   "cell_type": "code",
   "execution_count": 69,
   "metadata": {
    "collapsed": false
   },
   "outputs": [
    {
     "name": "stdout",
     "output_type": "stream",
     "text": [
      "* Albania:\n",
      "13.19\n",
      "* Greece:\n",
      "4.78\n",
      "* Macedonia:\n",
      "7.9\n",
      "* Serbia:\n",
      "6.16\n",
      "* Montenegro:\n",
      "1000\n",
      "* Kosovo:\n",
      "1000\n",
      "* Andorra:\n",
      "3.69\n"
     ]
    }
   ],
   "source": [
    "for element in document_tree.iterfind('country'):\n",
    "    print ('* ' + element.find('name').text + ':'),\n",
    "    infant_mortal = 1000   \n",
    "    for subelement in element.getiterator('infant_mortality'):\n",
    "        infant_mortal = float(subelement.text)\n",
    "    print (infant_mortal)"
   ]
  },
  {
   "cell_type": "code",
   "execution_count": 99,
   "metadata": {
    "collapsed": false
   },
   "outputs": [
    {
     "data": {
      "text/plain": [
       "{'area': '131940',\n",
       " 'capital': 'cty-Greece-Athens',\n",
       " 'car_code': 'GR',\n",
       " 'memberships': 'org-AG org-BIS org-BSEC org-CD org-SELEC org-CE org-EMU org-EAPC org-EBRD org-ECB org-EIB org-CERN org-ESA org-EU org-FATF org-FAO org-IGAD org-IPU org-IAEA org-IBRD org-ICC org-ICAO org-ICJ org-ICCt org-Interpol org-IDA org-IEA org-IFRCS org-IFC org-IFAD org-IHO org-ILO org-IMO org-IMSO org-IMF org-IOC org-IOM org-OIF org-ITSO org-ITU org-ITUC org-MIGA org-NATO org-NEA org-NSG org-OECD org-OSCE org-OPCW org-OAS org-PCA org-UN org-UNCTAD org-UNESCO org-UNHCR org-UNIDO org-UNIFIL org-UPU org-WCO org-WFTU org-WHO org-WIPO org-WMO org-UNWTO org-WTO org-ZC'}"
      ]
     },
     "execution_count": 99,
     "metadata": {},
     "output_type": "execute_result"
    }
   ],
   "source": [
    "document_root[1].attrib"
   ]
  },
  {
   "cell_type": "code",
   "execution_count": 143,
   "metadata": {
    "collapsed": false
   },
   "outputs": [
    {
     "name": "stdout",
     "output_type": "stream",
     "text": [
      "name\n",
      "localname\n",
      "population\n",
      "population\n",
      "population\n",
      "population\n",
      "population\n",
      "population\n",
      "population\n",
      "population\n",
      "population\n",
      "population\n",
      "population\n",
      "population\n",
      "population\n",
      "population\n",
      "population\n",
      "population_growth\n",
      "infant_mortality\n",
      "gdp_total\n",
      "gdp_agri\n",
      "gdp_ind\n",
      "gdp_serv\n",
      "inflation\n",
      "unemployment\n",
      "indep_date\n",
      "government\n",
      "encompassed\n",
      "ethnicgroup\n",
      "religion\n",
      "religion\n",
      "language\n",
      "border\n",
      "border\n",
      "border\n",
      "border\n",
      "province\n",
      "province\n",
      "province\n",
      "province\n",
      "province\n",
      "province\n",
      "province\n",
      "province\n",
      "province\n",
      "province\n",
      "province\n",
      "province\n",
      "province\n",
      "province\n"
     ]
    }
   ],
   "source": [
    "for child in document_root[1]:#[1:11]: #seeing the children under the main elements\n",
    "    print(child.tag)"
   ]
  },
  {
   "cell_type": "code",
   "execution_count": 140,
   "metadata": {
    "collapsed": false
   },
   "outputs": [
    {
     "name": "stdout",
     "output_type": "stream",
     "text": [
      "{}\n",
      "{'measured': 'est.', 'year': '1950'}\n",
      "{'measured': 'est.', 'year': '1960'}\n",
      "{'measured': 'est.', 'year': '1970'}\n",
      "{'measured': 'est.', 'year': '1980'}\n",
      "{'measured': 'est.', 'year': '1990'}\n",
      "{'year': '1997'}\n",
      "{'measured': 'est.', 'year': '2000'}\n",
      "{'year': '2001', 'measured': 'census'}\n",
      "{'year': '2011', 'measured': 'census'}\n",
      "{}\n",
      "{}\n",
      "{}\n",
      "{}\n",
      "{}\n",
      "{}\n",
      "{}\n",
      "{}\n",
      "{'from': 'Ottoman Empire'}\n",
      "{}\n",
      "{'continent': 'europe', 'percentage': '100'}\n",
      "{'percentage': '95'}\n",
      "{'percentage': '3'}\n",
      "{'percentage': '70'}\n",
      "{'percentage': '10'}\n",
      "{'percentage': '20'}\n",
      "{'percentage': '98.8'}\n",
      "{'percentage': '0.5'}\n",
      "{'country': 'GR', 'length': '282'}\n",
      "{'country': 'MK', 'length': '151'}\n",
      "{'country': 'MNE', 'length': '172'}\n",
      "{'country': 'KOS', 'length': '112'}\n",
      "{'id': 'cty-Albania-Tirane', 'country': 'AL'}\n",
      "{'id': 'stadt-Shkoder-AL-AL', 'country': 'AL'}\n",
      "{'id': 'stadt-Durres-AL-AL', 'country': 'AL'}\n",
      "{'id': 'stadt-Vlore-AL-AL', 'country': 'AL'}\n",
      "{'id': 'stadt-Elbasan-AL-AL', 'country': 'AL'}\n",
      "{'id': 'stadt-Korce-AL-AL', 'country': 'AL'}\n"
     ]
    }
   ],
   "source": [
    "for child in document_root[0]:#[1:11]: #seeing the children under the main elements\n",
    "    print(child.attrib)"
   ]
  },
  {
   "cell_type": "markdown",
   "metadata": {},
   "source": [
    "****\n",
    "## XML exercise\n",
    "\n",
    "Using data in 'data/mondial_database.xml', the examples above, and refering to https://docs.python.org/2.7/library/xml.etree.elementtree.html, find\n",
    "\n",
    "1. 10 countries with the lowest infant mortality rates\n",
    "2. 10 cities with the largest population\n",
    "3. 10 ethnic groups with the largest overall populations (sum of best/latest estimates over all countries)\n",
    "4. name and country of a) longest river, b) largest lake and c) airport at highest elevation"
   ]
  },
  {
   "cell_type": "markdown",
   "metadata": {},
   "source": [
    "# Answer 1"
   ]
  },
  {
   "cell_type": "markdown",
   "metadata": {},
   "source": [
    "Finding the 10 lowest infnant mortality rates and the countries associated with them"
   ]
  },
  {
   "cell_type": "code",
   "execution_count": 68,
   "metadata": {
    "collapsed": true
   },
   "outputs": [],
   "source": [
    "from xml.etree import ElementTree as ET\n",
    "import pandas as pd\n",
    "import numpy as np"
   ]
  },
  {
   "cell_type": "code",
   "execution_count": 9,
   "metadata": {
    "collapsed": false
   },
   "outputs": [],
   "source": [
    "document = ET.parse( './data/mondial_database.xml' )"
   ]
  },
  {
   "cell_type": "code",
   "execution_count": 10,
   "metadata": {
    "collapsed": false
   },
   "outputs": [],
   "source": [
    "root = document.getroot()"
   ]
  },
  {
   "cell_type": "code",
   "execution_count": 11,
   "metadata": {
    "collapsed": false
   },
   "outputs": [],
   "source": [
    "# find all the infant mortality rates and sort them.\n",
    "inf_list = []\n",
    "for country in document.iterfind('country'):\n",
    "   \n",
    "    infant_mortal = 1000 #since the 10 lowest are wanted, this prevents missing data from appearing as the lowest (0)\n",
    "    \n",
    "    for infmor in country.getiterator('infant_mortality'):\n",
    "        infant_mortal = float(infmor.text)\n",
    "        inf_list = inf_list + [infant_mortal]\n",
    "list.sort(inf_list)\n",
    "short_inf_list = inf_list[:10]"
   ]
  },
  {
   "cell_type": "code",
   "execution_count": 13,
   "metadata": {
    "collapsed": false
   },
   "outputs": [
    {
     "data": {
      "text/plain": [
       "'Monaco'"
      ]
     },
     "execution_count": 13,
     "metadata": {},
     "output_type": "execute_result"
    }
   ],
   "source": [
    "a=root.findall(\"./country[infant_mortality='1.81']/name\") # finding the right syntax to call the name of the country\n",
    "a[0].text                                                 # corresponding to a mortatlity rate"
   ]
  },
  {
   "cell_type": "code",
   "execution_count": 14,
   "metadata": {
    "collapsed": false
   },
   "outputs": [
    {
     "data": {
      "text/plain": [
       "'Monaco'"
      ]
     },
     "execution_count": 14,
     "metadata": {},
     "output_type": "execute_result"
    }
   ],
   "source": [
    "root.findall(\"./country[infant_mortality='1.81']/name\")[0].text"
   ]
  },
  {
   "cell_type": "code",
   "execution_count": 15,
   "metadata": {
    "collapsed": false
   },
   "outputs": [
    {
     "data": {
      "text/plain": [
       "'Monaco'"
      ]
     },
     "execution_count": 15,
     "metadata": {},
     "output_type": "execute_result"
    }
   ],
   "source": [
    "d = \"./country[infant_mortality='1.81']/name\"\n",
    "root.findall(d)[0].text"
   ]
  },
  {
   "cell_type": "code",
   "execution_count": 16,
   "metadata": {
    "collapsed": false
   },
   "outputs": [
    {
     "name": "stdout",
     "output_type": "stream",
     "text": [
      "Monaco: 1.81\n",
      "Japan: 2.13\n",
      "Norway: 2.48\n",
      "Norway: 2.48\n",
      "Singapore: 2.53\n",
      "Sweden: 2.6\n",
      "Czech Republic: 2.63\n",
      "Hong Kong: 2.73\n",
      "Macao: 3.13\n",
      "Iceland: 3.15\n"
     ]
    }
   ],
   "source": [
    "#Answer 1!\n",
    "for entry in short_inf_list:\n",
    "    d =  \"./country[infant_mortality='\"+ str(entry)+\"']/name\"\n",
    "    print (root.findall(d)[0].text +  ': ' + str(entry))\n",
    "    "
   ]
  },
  {
   "cell_type": "markdown",
   "metadata": {
    "collapsed": false
   },
   "source": [
    "# Answer 2"
   ]
  },
  {
   "cell_type": "markdown",
   "metadata": {},
   "source": [
    "Finding the top 10 cities by population"
   ]
  },
  {
   "cell_type": "code",
   "execution_count": null,
   "metadata": {
    "collapsed": true
   },
   "outputs": [],
   "source": [
    "#Some exploration of the data\n",
    "for child in document_root[1]:#[1:11]: #seeing the children under the main elements\n",
    "    print(child.tag)"
   ]
  },
  {
   "cell_type": "code",
   "execution_count": null,
   "metadata": {
    "collapsed": true
   },
   "outputs": [],
   "source": [
    "for child in document_root[0]:#[1:11]: #seeing the children under the main elements\n",
    "    print(child.attrib)"
   ]
  },
  {
   "cell_type": "code",
   "execution_count": 17,
   "metadata": {
    "collapsed": false
   },
   "outputs": [
    {
     "data": {
      "text/html": [
       "<div>\n",
       "<table border=\"1\" class=\"dataframe\">\n",
       "  <thead>\n",
       "    <tr style=\"text-align: right;\">\n",
       "      <th></th>\n",
       "      <th>CityName</th>\n",
       "      <th>Population</th>\n",
       "    </tr>\n",
       "  </thead>\n",
       "  <tbody>\n",
       "    <tr>\n",
       "      <th>1341</th>\n",
       "      <td>Shanghai</td>\n",
       "      <td>22315474.0</td>\n",
       "    </tr>\n",
       "    <tr>\n",
       "      <th>771</th>\n",
       "      <td>Istanbul</td>\n",
       "      <td>13710512.0</td>\n",
       "    </tr>\n",
       "    <tr>\n",
       "      <th>1527</th>\n",
       "      <td>Mumbai</td>\n",
       "      <td>12442373.0</td>\n",
       "    </tr>\n",
       "    <tr>\n",
       "      <th>479</th>\n",
       "      <td>Moskva</td>\n",
       "      <td>11979529.0</td>\n",
       "    </tr>\n",
       "    <tr>\n",
       "      <th>1340</th>\n",
       "      <td>Beijing</td>\n",
       "      <td>11716620.0</td>\n",
       "    </tr>\n",
       "    <tr>\n",
       "      <th>2810</th>\n",
       "      <td>São Paulo</td>\n",
       "      <td>11152344.0</td>\n",
       "    </tr>\n",
       "    <tr>\n",
       "      <th>1342</th>\n",
       "      <td>Tianjin</td>\n",
       "      <td>11090314.0</td>\n",
       "    </tr>\n",
       "    <tr>\n",
       "      <th>1064</th>\n",
       "      <td>Guangzhou</td>\n",
       "      <td>11071424.0</td>\n",
       "    </tr>\n",
       "    <tr>\n",
       "      <th>1582</th>\n",
       "      <td>Delhi</td>\n",
       "      <td>11034555.0</td>\n",
       "    </tr>\n",
       "    <tr>\n",
       "      <th>1067</th>\n",
       "      <td>Shenzhen</td>\n",
       "      <td>10358381.0</td>\n",
       "    </tr>\n",
       "  </tbody>\n",
       "</table>\n",
       "</div>"
      ],
      "text/plain": [
       "       CityName  Population\n",
       "1341   Shanghai  22315474.0\n",
       "771    Istanbul  13710512.0\n",
       "1527     Mumbai  12442373.0\n",
       "479      Moskva  11979529.0\n",
       "1340    Beijing  11716620.0\n",
       "2810  São Paulo  11152344.0\n",
       "1342    Tianjin  11090314.0\n",
       "1064  Guangzhou  11071424.0\n",
       "1582      Delhi  11034555.0\n",
       "1067   Shenzhen  10358381.0"
      ]
     },
     "execution_count": 17,
     "metadata": {},
     "output_type": "execute_result"
    }
   ],
   "source": [
    "cityname = \"\"\n",
    "citypopulation = \"\"\n",
    "document = ET.parse( './data/mondial_database.xml' ) #NOTE this line is not technically necessary as it is already defined, \n",
    "                                                        #but it makes this answer independent of the previous one\n",
    "df = pd.DataFrame(columns=['CityName','Population']) #create data frame to hold country name and its popuplation\n",
    "df['Population'] = df['Population'].astype(float)\n",
    "\n",
    "#loop through country element to find city name and its population\n",
    "for country in document.iterfind( 'country' ):\n",
    "    for city in country.iter('city'): #find all cities within each country element\n",
    "        cityname = city.find('name').text\n",
    "        year = int(0)\n",
    "        for node in city.iterfind('population'): #find all population elements with each city\n",
    "            year = node.attrib['year'] #there are multiple population elements with different 'year' attribute\n",
    "            if node.attrib['year'] >= year: #store the population number of the latest year\n",
    "                citypopulation = int(node.text)\n",
    "        df.loc[len(df)] = [cityname,citypopulation] #add city name and its population to data frame\n",
    "        cityname = \"\"\n",
    "        \n",
    "\n",
    "#sort data frame to find 10 cities with largest population\n",
    "df.sort_values(by = 'Population', ascending=False).head(10)"
   ]
  },
  {
   "cell_type": "markdown",
   "metadata": {
    "collapsed": false,
    "scrolled": true
   },
   "source": [
    "# Answer 3"
   ]
  },
  {
   "cell_type": "markdown",
   "metadata": {},
   "source": [
    "Finding the 10 ethnic groups with the largest overall populations (sum of best/latest estimates over all countries)"
   ]
  },
  {
   "cell_type": "code",
   "execution_count": 18,
   "metadata": {
    "collapsed": false
   },
   "outputs": [],
   "source": [
    "countryname = \"\"            #same pattern as last answer, creating a dataframe to store results\n",
    "countrypopulation = 0\n",
    "ethnicpopulation = 0\n",
    "document = ET.parse( './data/mondial_database.xml' ) #NOTE this line is not technically necessary as it is already defined, \n",
    "df = pd.DataFrame(columns=['Country','EthnicGroup','Population']) #but it does make the answer independent of previous ones\n",
    "df['Population'] = df['Population'].astype(float)\n",
    "\n",
    "#loop through country element to find ethnic groups and its population\n",
    "for country in document.iterfind( 'country' ):\n",
    "    countryname = country.find('name').text #find country name\n",
    "    year = int(0)\n",
    "    countrycpopulation = int(0)\n",
    "    for pop in country.iterfind('population'): #find population of the country\n",
    "        year = pop.attrib['year']\n",
    "        if pop.attrib['year'] >= year: #find population of the latest year\n",
    "            countrypopulation = (pop.text) \n",
    "    ethnicname = None\n",
    "    ethnicpopulation = 0      #presetting values\n",
    "    for ethnic in country.iter('ethnicgroup'): #find all ethnic groups within the same country\n",
    "        ethnicname = ethnic.text\n",
    "        #earlier exploration showed that ethnic populations are recorded as percentages\n",
    "        #compute each ethnic population: country population * ethnic group percentage \n",
    "        ethnicpopulation = round(float(ethnic.attrib['percentage']) * 0.01 * int(countrypopulation))\n",
    "        if ethnicname == None:\n",
    "            ethnicname = countryname\n",
    "            ethnicpopulation = countrypopulation\n",
    "        df.loc[len(df)] = [countryname,ethnicname,ethnicpopulation] #store ethnic group population to data frame\n",
    "    countryname = \"\"\n",
    "\n"
   ]
  },
  {
   "cell_type": "code",
   "execution_count": 19,
   "metadata": {
    "collapsed": false
   },
   "outputs": [
    {
     "data": {
      "text/html": [
       "<div>\n",
       "<table border=\"1\" class=\"dataframe\">\n",
       "  <thead>\n",
       "    <tr style=\"text-align: right;\">\n",
       "      <th></th>\n",
       "      <th>Population</th>\n",
       "    </tr>\n",
       "    <tr>\n",
       "      <th>EthnicGroup</th>\n",
       "      <th></th>\n",
       "    </tr>\n",
       "  </thead>\n",
       "  <tbody>\n",
       "    <tr>\n",
       "      <th>Han Chinese</th>\n",
       "      <td>1.245059e+09</td>\n",
       "    </tr>\n",
       "    <tr>\n",
       "      <th>Indo-Aryan</th>\n",
       "      <td>8.718156e+08</td>\n",
       "    </tr>\n",
       "    <tr>\n",
       "      <th>European</th>\n",
       "      <td>4.948722e+08</td>\n",
       "    </tr>\n",
       "    <tr>\n",
       "      <th>African</th>\n",
       "      <td>3.183251e+08</td>\n",
       "    </tr>\n",
       "    <tr>\n",
       "      <th>Dravidian</th>\n",
       "      <td>3.027137e+08</td>\n",
       "    </tr>\n",
       "    <tr>\n",
       "      <th>Mestizo</th>\n",
       "      <td>1.577344e+08</td>\n",
       "    </tr>\n",
       "    <tr>\n",
       "      <th>Bengali</th>\n",
       "      <td>1.467769e+08</td>\n",
       "    </tr>\n",
       "    <tr>\n",
       "      <th>Russian</th>\n",
       "      <td>1.318570e+08</td>\n",
       "    </tr>\n",
       "    <tr>\n",
       "      <th>Japanese</th>\n",
       "      <td>1.265342e+08</td>\n",
       "    </tr>\n",
       "    <tr>\n",
       "      <th>Malay</th>\n",
       "      <td>1.219936e+08</td>\n",
       "    </tr>\n",
       "  </tbody>\n",
       "</table>\n",
       "</div>"
      ],
      "text/plain": [
       "               Population\n",
       "EthnicGroup              \n",
       "Han Chinese  1.245059e+09\n",
       "Indo-Aryan   8.718156e+08\n",
       "European     4.948722e+08\n",
       "African      3.183251e+08\n",
       "Dravidian    3.027137e+08\n",
       "Mestizo      1.577344e+08\n",
       "Bengali      1.467769e+08\n",
       "Russian      1.318570e+08\n",
       "Japanese     1.265342e+08\n",
       "Malay        1.219936e+08"
      ]
     },
     "execution_count": 19,
     "metadata": {},
     "output_type": "execute_result"
    }
   ],
   "source": [
    "#group ethnic group across all countries and sum them up to find top 10 ethnic groups and its total population\n",
    "df.groupby('EthnicGroup').sum().sort_values(by = 'Population', ascending=False).head(10)"
   ]
  },
  {
   "cell_type": "markdown",
   "metadata": {},
   "source": [
    "# Answer 4"
   ]
  },
  {
   "cell_type": "markdown",
   "metadata": {},
   "source": [
    "Name and country of a) longest river, b) largest lake and c) airport at highest elevation"
   ]
  },
  {
   "cell_type": "code",
   "execution_count": 107,
   "metadata": {
    "collapsed": false
   },
   "outputs": [],
   "source": [
    "#longest river\n",
    "rivername = \"\"\n",
    "rivercountry = \"\"\n",
    "lengthtemp = 0\n",
    "riverlength = 0\n",
    "document = ET.parse( './data/mondial_database.xml' ) #NOTE this line is not technically necessary as it is already defined, \n",
    "                                                        #but it makes this answer independent of the previous one\n",
    "\n",
    "#loop through document to find all rivers\n",
    "\n",
    "for river in root.iter('river'): #find all rivers. Note that rivers are their own elements outside of countries\n",
    "    \n",
    "    rname = river.find('length')\n",
    "    \n",
    "    if rname != None:\n",
    "        lengthtemp = rname.text\n",
    "        lengthtemp = float(lengthtemp)\n",
    "        if lengthtemp > riverlength:\n",
    "            riverlength = lengthtemp\n",
    "            rivername = river.find('name').text\n",
    "            rivcount = river.attrib['country']\n",
    "            rivercountry = rivcount.split(' ')"
   ]
  },
  {
   "cell_type": "code",
   "execution_count": 108,
   "metadata": {
    "collapsed": false
   },
   "outputs": [],
   "source": [
    "printlist = []\n",
    "for entry in range(len(rivercountry)):\n",
    "    d =  \"./country[@car_code='\"+ rivercountry[entry]+\"']/name\"\n",
    "    printlist = printlist+ [root.findall(d)[0].text]\n"
   ]
  },
  {
   "cell_type": "code",
   "execution_count": 109,
   "metadata": {
    "collapsed": false
   },
   "outputs": [
    {
     "name": "stdout",
     "output_type": "stream",
     "text": [
      "The longest river is Amazonas at 6448.0km. It runs through Colombia, Peru, and Brazil\n"
     ]
    }
   ],
   "source": [
    "#Answer 4.a\n",
    "print('The longest river is ' + rivername + ' at ' + str(riverlength)+ 'km. It runs through ' + printlist[0] +', '+ printlist[2]+ ', and '+ printlist[1])"
   ]
  },
  {
   "cell_type": "code",
   "execution_count": 111,
   "metadata": {
    "collapsed": false
   },
   "outputs": [],
   "source": [
    "#largest lake\n",
    "lakename = \"\"\n",
    "lakecountry = \"\"\n",
    "lakearea = 0\n",
    "temparea=0\n",
    "document = ET.parse( './data/mondial_database.xml' ) #NOTE this line is not technically necessary as it is already defined, \n",
    "                                                        #but it makes this answer independent of the previous one\n",
    "\n",
    "\n",
    "#loop through document to find lakes\n",
    "for lake in root.iter('lake'): #find all lakes \n",
    "    \n",
    "    lname = lake.find('area')\n",
    "    \n",
    "    if lname != None:\n",
    "        areatemp = lname.text\n",
    "        areatemp = float(areatemp)\n",
    "        if areatemp > lakearea:\n",
    "            lakearea = areatemp\n",
    "            lakename = lake.find('name').text\n",
    "            lakecount = lake.attrib['country']\n",
    "            lakecountry = lakecount.split(' ')"
   ]
  },
  {
   "cell_type": "code",
   "execution_count": 113,
   "metadata": {
    "collapsed": false
   },
   "outputs": [],
   "source": [
    "printlist = []\n",
    "for entry in range(len(lakecountry)):\n",
    "    d =  \"./country[@car_code='\"+ lakecountry[entry]+\"']/name\"\n",
    "    printlist = printlist+ [root.findall(d)[0].text]"
   ]
  },
  {
   "cell_type": "code",
   "execution_count": 115,
   "metadata": {
    "collapsed": false
   },
   "outputs": [
    {
     "name": "stdout",
     "output_type": "stream",
     "text": [
      "The largest lake is Caspian Sea at 386400.0sq.km. It is in Russia, Kazakhstan, Iran, Turkmenistan, and Azerbaijan\n"
     ]
    }
   ],
   "source": [
    "#Answer 4.b\n",
    "print('The largest lake is ' + lakename + ' at ' + str(lakearea)+ ' sq.km. It is in ' + printlist[0] + ', ' + printlist[2]+ ', ' + printlist[3] + ', ' + printlist[4] + ', and '+ printlist[1])"
   ]
  },
  {
   "cell_type": "code",
   "execution_count": 132,
   "metadata": {
    "collapsed": false
   },
   "outputs": [],
   "source": [
    "# highest airport\n",
    "airname = \"\"\n",
    "aircountry = \"\"\n",
    "airel = 0\n",
    "\n",
    "document = ET.parse( './data/mondial_database.xml' ) #NOTE this line is not technically necessary as it is already defined, \n",
    "                                                        #but it makes this answer independent of the previous one\n",
    "\n",
    "#loop through document to find airport\n",
    "for ap in root.iter('airport'): #find all airports\n",
    "    \n",
    "    air = ap.find('elevation').text\n",
    "    \n",
    "    if air != None:\n",
    "        air = float(air)\n",
    "        if air > airel:\n",
    "            airel = air\n",
    "            airname = airport.find('name').text\n",
    "            aircount = airport.attrib['country']\n",
    "            aircountry = aircount.split(' ')"
   ]
  },
  {
   "cell_type": "code",
   "execution_count": 135,
   "metadata": {
    "collapsed": false
   },
   "outputs": [],
   "source": [
    "d =  \"./country[@car_code='\"+ aircountry[0] +\"']/name\"\n",
    "printlist = [root.findall(d)[0].text]"
   ]
  },
  {
   "cell_type": "code",
   "execution_count": 137,
   "metadata": {
    "collapsed": false,
    "scrolled": true
   },
   "outputs": [
    {
     "name": "stdout",
     "output_type": "stream",
     "text": [
      "The highest airport is Xiangfan Airport at 4063.0 m. It is in China.\n"
     ]
    }
   ],
   "source": [
    "#Answer 4.c\n",
    "print('The highest airport is ' + airname + ' at ' + str(airel) +' m. It is in ' + printlist[0] + '.')"
   ]
  }
 ],
 "metadata": {
  "kernelspec": {
   "display_name": "Python 3",
   "language": "python",
   "name": "python3"
  },
  "language_info": {
   "codemirror_mode": {
    "name": "ipython",
    "version": 3
   },
   "file_extension": ".py",
   "mimetype": "text/x-python",
   "name": "python",
   "nbconvert_exporter": "python",
   "pygments_lexer": "ipython3",
   "version": "3.6.0"
  }
 },
 "nbformat": 4,
 "nbformat_minor": 0
}
